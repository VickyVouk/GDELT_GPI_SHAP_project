{
 "cells": [
  {
   "cell_type": "markdown",
   "metadata": {},
   "source": [
    "**I work on the base environment**"
   ]
  },
  {
   "cell_type": "code",
   "execution_count": 1,
   "metadata": {},
   "outputs": [],
   "source": [
    "import pandas as pd\n",
    "import os"
   ]
  },
  {
   "cell_type": "code",
   "execution_count": 16,
   "metadata": {},
   "outputs": [],
   "source": [
    "#Create an empty dataframe to add the predictions and the country code - till when we have the ground truth data\n",
    "df_preds_all = pd.DataFrame(columns=['country_code','gpi_predicted'])\n",
    "l_countrypreds = [] #list to add the countries for which we have predictions\n",
    "count = 0\n",
    "for i in os.listdir('XGBoost_results/'):\n",
    "    if i.endswith('_xgb_predictions.csv'):\n",
    "        country = i.split('_')[0]\n",
    "        \n",
    "        if country !='WE' and country != 'SY':\n",
    "            \n",
    "            preds = pd.read_csv('XGBoost_results/'+ i , index_col = 0)\n",
    "            \n",
    "            ##add the new predictions\n",
    "            #newpreds = pd.read_csv('../../GPI_project/new_2021/XGBoost_results_2021/%s_xgb_predictions.csv' %country, index_col = 0)\n",
    "            \n",
    "            #preds = preds.append(newpreds)\n",
    "            \n",
    "            #Get the length of the predictions. It is enough to read one prediction file since all predictions' length is the same.\n",
    "            if count == 0:\n",
    "                length = len(preds)\n",
    "                count = count+1\n",
    "            df_preds = pd.DataFrame({'gpi_predicted':preds.prediction1}).reset_index(drop = True)\n",
    "            l_country_name = [country] * length \n",
    "            df_country = pd.DataFrame({'country_code':l_country_name})\n",
    "\n",
    "            #Merge the predictions dataframe with the corresponding country code in the form of dataframe\n",
    "            country_preds = pd.merge(df_preds, df_country, left_index=True, right_index=True)\n",
    "            df_preds_all = df_preds_all.append(country_preds, sort=False)\n",
    "\n",
    "            l_countrypreds.append(country)\n",
    "            "
   ]
  },
  {
   "cell_type": "markdown",
   "metadata": {},
   "source": [
    "Reset the index on the dataframe with all the predictions per country:"
   ]
  },
  {
   "cell_type": "code",
   "execution_count": 18,
   "metadata": {},
   "outputs": [],
   "source": [
    "df_preds_all.reset_index(drop = True, inplace = True)"
   ]
  },
  {
   "cell_type": "code",
   "execution_count": 19,
   "metadata": {},
   "outputs": [],
   "source": [
    "#Create an empty dataframe to add the real GPI score, the monthyear and the country code\n",
    "df_interp_all = pd.DataFrame(columns=['country_code','MonthYear','GPI_score'])\n",
    "l_country_interp = [] #list to add the countries for which we have real gpi\n",
    "\n",
    "for i in os.listdir('data/interpolated_gpi/'):\n",
    "    if i.startswith(\"interpolated\"):\n",
    "        \n",
    "        #Get the country code\n",
    "        country = i.split('_')[-1].split('.')[0]\n",
    "        \n",
    "        if country !='WE' and country != 'SY' :\n",
    "            #Create a list with the country name to later append on the main dataframe\n",
    "            l_country_name = [country] * length\n",
    "            df_country = pd.DataFrame({'country_code':l_country_name})\n",
    "\n",
    "            #Read the file \n",
    "            file = pd.read_csv('data/interpolated_gpi/' + i , index_col = 0)\n",
    "            #Get the test set length of the file that correspond to the length of the predicted gpi\n",
    "            t_file = file.tail(length)\n",
    "            #Reset the index of the t_file\n",
    "            t_file = t_file.reset_index()\n",
    "\n",
    "            #Merge the real gpi with the country code in the form of a dataframe\n",
    "            country_interp = pd.merge(t_file, df_country, left_index=True, right_index=True)\n",
    "            df_interp_all = df_interp_all.append(country_interp, sort=False)\n",
    "\n",
    "            l_country_interp.append(country)"
   ]
  },
  {
   "cell_type": "markdown",
   "metadata": {},
   "source": [
    "Reset the index on the dataframe with all the predictions per country:"
   ]
  },
  {
   "cell_type": "code",
   "execution_count": 20,
   "metadata": {},
   "outputs": [],
   "source": [
    "df_interp_all.reset_index(drop = True, inplace = True)"
   ]
  },
  {
   "cell_type": "code",
   "execution_count": 21,
   "metadata": {},
   "outputs": [
    {
     "data": {
      "text/plain": [
       "(13685, 13685)"
      ]
     },
     "execution_count": 21,
     "metadata": {},
     "output_type": "execute_result"
    }
   ],
   "source": [
    "len(df_interp_all), len(df_preds_all)"
   ]
  },
  {
   "cell_type": "markdown",
   "metadata": {},
   "source": [
    "Now group the two dataframes based on the country code:"
   ]
  },
  {
   "cell_type": "code",
   "execution_count": 22,
   "metadata": {
    "scrolled": true
   },
   "outputs": [],
   "source": [
    "grouped1 = df_interp_all.groupby('country_code') "
   ]
  },
  {
   "cell_type": "code",
   "execution_count": 23,
   "metadata": {},
   "outputs": [],
   "source": [
    "grouped2 = df_preds_all.groupby('country_code') "
   ]
  },
  {
   "cell_type": "markdown",
   "metadata": {},
   "source": [
    "Read the fips with the countries dataframe that will be used below:"
   ]
  },
  {
   "cell_type": "code",
   "execution_count": 25,
   "metadata": {},
   "outputs": [],
   "source": [
    "df_fips = pd.read_csv('data/Fips10_4.csv')"
   ]
  },
  {
   "cell_type": "code",
   "execution_count": 26,
   "metadata": {
    "scrolled": true
   },
   "outputs": [
    {
     "data": {
      "text/html": [
       "<div>\n",
       "<style scoped>\n",
       "    .dataframe tbody tr th:only-of-type {\n",
       "        vertical-align: middle;\n",
       "    }\n",
       "\n",
       "    .dataframe tbody tr th {\n",
       "        vertical-align: top;\n",
       "    }\n",
       "\n",
       "    .dataframe thead th {\n",
       "        text-align: right;\n",
       "    }\n",
       "</style>\n",
       "<table border=\"1\" class=\"dataframe\">\n",
       "  <thead>\n",
       "    <tr style=\"text-align: right;\">\n",
       "      <th></th>\n",
       "      <th>Country</th>\n",
       "      <th>FIPS_10_4</th>\n",
       "    </tr>\n",
       "  </thead>\n",
       "  <tbody>\n",
       "    <tr>\n",
       "      <th>0</th>\n",
       "      <td>Afghanistan</td>\n",
       "      <td>AF</td>\n",
       "    </tr>\n",
       "    <tr>\n",
       "      <th>1</th>\n",
       "      <td>Aland Islands</td>\n",
       "      <td>–</td>\n",
       "    </tr>\n",
       "    <tr>\n",
       "      <th>2</th>\n",
       "      <td>Albania</td>\n",
       "      <td>AL</td>\n",
       "    </tr>\n",
       "  </tbody>\n",
       "</table>\n",
       "</div>"
      ],
      "text/plain": [
       "         Country FIPS_10_4\n",
       "0    Afghanistan        AF\n",
       "1  Aland Islands         –\n",
       "2        Albania        AL"
      ]
     },
     "execution_count": 26,
     "metadata": {},
     "output_type": "execute_result"
    }
   ],
   "source": [
    "df_fips.head(3)"
   ]
  },
  {
   "cell_type": "markdown",
   "metadata": {},
   "source": [
    "Get the extra the forecast dates that will be used for the final dataframe:"
   ]
  },
  {
   "cell_type": "code",
   "execution_count": 27,
   "metadata": {},
   "outputs": [],
   "source": [
    "all_var = pd.read_csv('data/all_variables_and_GPI_monthly_all_countries/all_variables_%s.csv'%country, index_col=0)\n",
    "all_var.index.to_list()\n",
    "\n",
    "f_date = 202104 #set the first forecast date\n",
    "l_date = 202110 #set last+1 forecast date (to get the last forecast)\n",
    "df = all_var.index.to_list().index(f_date)\n",
    "dl = all_var.index.to_list().index(l_date)\n",
    "f_dates = all_var.index.to_list()[df:dl]\n",
    "n_f = 6 #set the number of forecasts ahead"
   ]
  },
  {
   "cell_type": "code",
   "execution_count": 28,
   "metadata": {},
   "outputs": [
    {
     "data": {
      "text/plain": [
       "[202104, 202105, 202106, 202107, 202108, 202109]"
      ]
     },
     "execution_count": 28,
     "metadata": {},
     "output_type": "execute_result"
    }
   ],
   "source": [
    "f_dates"
   ]
  },
  {
   "cell_type": "code",
   "execution_count": 33,
   "metadata": {},
   "outputs": [],
   "source": [
    "#Create an empty dataframe that will be the final one to add the forecasts as well\n",
    "final = pd.DataFrame(columns=['country_code', 'MonthYear', 'GPI_score', 'gpi_predicted'])\n",
    "\n",
    "#For each country merge the dataframes above\n",
    "for country in l_country_interp: \n",
    "    df1 = grouped1.get_group(country).reset_index(drop=True)\n",
    "    df2 = grouped2.get_group(country).reset_index(drop=True).drop(['country_code'], axis=1)\n",
    "    df_both = pd.merge(df1, df2, left_index=True, right_index=True)\n",
    "    \n",
    "    #Prepare the dataframe with new forecast values\n",
    "    forecasts = pd.read_csv('XGBoost_forecasts/%s_xgb_predictions.csv' %country, index_col = 0)\n",
    "    forecasts = forecasts.iloc[:,:n_f+1]\n",
    "    \n",
    "    forecasts = forecasts.iloc[:,1:].T.reset_index(drop = True)\n",
    "    flength = len(forecasts)\n",
    "    forecasts.columns = ['gpi_predicted']\n",
    "    forecasts['MonthYear'] = f_dates\n",
    "    forecasts['country_code'] = flength * [country]  \n",
    "    \n",
    "    #Append the forecasts to the dataframe\n",
    "    df_both = df_both.append(forecasts)\n",
    "    df_both.reset_index(drop = True, inplace = True)\n",
    "    \n",
    "    #Create an extra column with the country corresponding to the fips code\n",
    "    country_fips = df_fips.at[df_fips['FIPS_10_4'].eq(country).idxmax(),'Country']\n",
    "    fips_country_name = [country_fips] * len(df_both)\n",
    "    df_country = pd.DataFrame({'country_name':fips_country_name})\n",
    "    \n",
    "    #Merge df_both with df_country\n",
    "    df_both_country = pd.merge(df_country, df_both, left_index=True, right_index=True)\n",
    "    \n",
    "    #Append on the final dataframe\n",
    "    final = final.append(df_both_country, sort=False)\n",
    "    "
   ]
  },
  {
   "cell_type": "markdown",
   "metadata": {},
   "source": [
    "We have been asked to add to the dataframe the variables importance. The following produces this information to add them to the dataframe."
   ]
  },
  {
   "cell_type": "code",
   "execution_count": 35,
   "metadata": {},
   "outputs": [],
   "source": [
    "l_train_date = 202103 #set last training date, which corresponds to the last date of the ground truth data"
   ]
  },
  {
   "cell_type": "code",
   "execution_count": 57,
   "metadata": {},
   "outputs": [],
   "source": [
    "#Create an empty dataframe to add all important variables for all countries\n",
    "var_all = pd.DataFrame()\n",
    "#Create a dataframe with all important variables and the country code\n",
    "for i in os.listdir('XGBoost_results/'):\n",
    "    \n",
    "    if i.endswith('_xgb_impvar.csv'):\n",
    "        country = i.split('_')[0]\n",
    "        \n",
    "        if country !='WE' and country != 'SY':\n",
    "            var = pd.read_csv('XGBoost_results/'+ i , index_col = 0)\n",
    "            \n",
    "            #add the variable importance used for the forecast\n",
    "            newvar = pd.read_csv('XGBoost_forecasts/%s_xgb_impvar.csv' %country, index_col = 0)\n",
    "            newvar['MonthYear'] = [l_train_date] * len(newvar)\n",
    "                        \n",
    "            #Append the forecasted values as well\n",
    "            var = var.append(newvar)          \n",
    "            #Use pivot so that you have as column names the variables and rows their importance/value\n",
    "            var = var.pivot(index='MonthYear', columns='Variable', values='Importance')\n",
    "            #Add the country code to the dataframe\n",
    "            var['country_code'] = [country] * len(var)\n",
    "            \n",
    "            #Now, delete the MonthYear column. You can anyway merge with the final dataframe, since the importance is ordered by date\n",
    "            var.reset_index(inplace = True)\n",
    "            \n",
    "            #Get as MonthYear the date of the prediction and not the date of the last training\n",
    "            #Get any column of 'MonthYear' for the matching since it is the same\n",
    "            var['MonthYear'] = country_interp['MonthYear'].append(pd.Series(f_dates)).reset_index(drop=True)\n",
    "            \n",
    "            #Create the dataframe with the same forecast variables \n",
    "            var2 = pd.concat([pd.DataFrame(var.iloc[-1]).T.iloc[:,1:]] * (len(f_dates[1:])))\n",
    "            var2.reset_index(drop = True, inplace = True)\n",
    "            var2['MonthYear'] = f_dates[1:]\n",
    "            \n",
    "            #Append to the biggere dataframe\n",
    "            var = var.append(var2)\n",
    "            \n",
    "            #Merge the country dataframe of variables importance with the dataframe that contains all country var imp\n",
    "            var_all = var_all.append(var, sort=False)\n",
    "            "
   ]
  },
  {
   "cell_type": "code",
   "execution_count": 95,
   "metadata": {},
   "outputs": [
    {
     "data": {
      "text/plain": [
       "(14651, 14651)"
      ]
     },
     "execution_count": 95,
     "metadata": {},
     "output_type": "execute_result"
    }
   ],
   "source": [
    "len(final), len(var_all)"
   ]
  },
  {
   "cell_type": "markdown",
   "metadata": {},
   "source": [
    "Now, merge the variable importance information with the final dataframe."
   ]
  },
  {
   "cell_type": "code",
   "execution_count": 60,
   "metadata": {
    "scrolled": false
   },
   "outputs": [],
   "source": [
    "final = pd.merge(final, var_all, on=['country_code','MonthYear'])"
   ]
  },
  {
   "cell_type": "code",
   "execution_count": 62,
   "metadata": {},
   "outputs": [
    {
     "data": {
      "text/plain": [
       "14651"
      ]
     },
     "execution_count": 62,
     "metadata": {},
     "output_type": "execute_result"
    }
   ],
   "source": [
    "len(final)"
   ]
  },
  {
   "cell_type": "markdown",
   "metadata": {},
   "source": [
    "Reorganise the columns:"
   ]
  },
  {
   "cell_type": "code",
   "execution_count": 63,
   "metadata": {},
   "outputs": [],
   "source": [
    "columns = final.columns.to_list()"
   ]
  },
  {
   "cell_type": "code",
   "execution_count": 64,
   "metadata": {},
   "outputs": [],
   "source": [
    "columns = columns[1:2] + columns[4:5] + columns[0:1] + columns[2:4] + columns[5:]"
   ]
  },
  {
   "cell_type": "code",
   "execution_count": 65,
   "metadata": {},
   "outputs": [],
   "source": [
    "final = final[columns]"
   ]
  },
  {
   "cell_type": "code",
   "execution_count": 66,
   "metadata": {},
   "outputs": [
    {
     "data": {
      "text/plain": [
       "161"
      ]
     },
     "execution_count": 66,
     "metadata": {},
     "output_type": "execute_result"
    }
   ],
   "source": [
    "len(final.country_code.unique())"
   ]
  },
  {
   "cell_type": "markdown",
   "metadata": {},
   "source": [
    "Round the numbers:"
   ]
  },
  {
   "cell_type": "code",
   "execution_count": 67,
   "metadata": {},
   "outputs": [],
   "source": [
    "final.iloc[:,3:] = round(final.iloc[:,3:],4)"
   ]
  },
  {
   "cell_type": "markdown",
   "metadata": {},
   "source": [
    "Remove the prefix from the columns:"
   ]
  },
  {
   "cell_type": "code",
   "execution_count": 68,
   "metadata": {},
   "outputs": [],
   "source": [
    "col_new = final.iloc[:,5:].columns.str.lstrip('event_count_').to_list()"
   ]
  },
  {
   "cell_type": "markdown",
   "metadata": {},
   "source": [
    "Make the columns with numbers from strings to integers:"
   ]
  },
  {
   "cell_type": "code",
   "execution_count": 69,
   "metadata": {},
   "outputs": [],
   "source": [
    "col_new = [int(x) for x in col_new]"
   ]
  },
  {
   "cell_type": "markdown",
   "metadata": {},
   "source": [
    "Create the new column names to replace the old:"
   ]
  },
  {
   "cell_type": "code",
   "execution_count": 70,
   "metadata": {},
   "outputs": [],
   "source": [
    "col_new2 = final.columns.to_list()[:5] + col_new "
   ]
  },
  {
   "cell_type": "markdown",
   "metadata": {},
   "source": [
    "Replace the old column names:"
   ]
  },
  {
   "cell_type": "code",
   "execution_count": 71,
   "metadata": {},
   "outputs": [],
   "source": [
    "final.columns = col_new2"
   ]
  },
  {
   "cell_type": "markdown",
   "metadata": {},
   "source": [
    "Reorder the columns with the event numbers in ascending order so that we can merge and match easily the descriptive titles:"
   ]
  },
  {
   "cell_type": "code",
   "execution_count": 72,
   "metadata": {},
   "outputs": [],
   "source": [
    "col_new3 = final.columns[:5].to_list() + final.columns[5:].sort_values().to_list()"
   ]
  },
  {
   "cell_type": "code",
   "execution_count": 73,
   "metadata": {},
   "outputs": [],
   "source": [
    "final = final[col_new3]\n"
   ]
  },
  {
   "cell_type": "markdown",
   "metadata": {},
   "source": [
    "Now add the descriptive names to the variables:"
   ]
  },
  {
   "cell_type": "code",
   "execution_count": 77,
   "metadata": {},
   "outputs": [],
   "source": [
    "name_variables = pd.read_csv('description_variables.csv')"
   ]
  },
  {
   "cell_type": "markdown",
   "metadata": {},
   "source": [
    "Get the column names that should be made descriptive:"
   ]
  },
  {
   "cell_type": "code",
   "execution_count": 78,
   "metadata": {},
   "outputs": [],
   "source": [
    "columns_change = final.columns[5:].to_list()"
   ]
  },
  {
   "cell_type": "markdown",
   "metadata": {},
   "source": [
    "Sort the columns so that you can easily merge to match the descriptive names:"
   ]
  },
  {
   "cell_type": "code",
   "execution_count": 79,
   "metadata": {},
   "outputs": [],
   "source": [
    "columns_change.sort()"
   ]
  },
  {
   "cell_type": "code",
   "execution_count": 80,
   "metadata": {},
   "outputs": [],
   "source": [
    "columns_change = pd.DataFrame(columns_change, columns= ['CAMEOEVENTCODE'])"
   ]
  },
  {
   "cell_type": "code",
   "execution_count": 81,
   "metadata": {},
   "outputs": [],
   "source": [
    "name_variables = name_variables.sort_values('CAMEOEVENTCODE').reset_index(drop=True)"
   ]
  },
  {
   "cell_type": "code",
   "execution_count": 82,
   "metadata": {},
   "outputs": [],
   "source": [
    "columns_changed = pd.merge(columns_change, name_variables, on=\"CAMEOEVENTCODE\")['EVENTDESCRIPTION']"
   ]
  },
  {
   "cell_type": "code",
   "execution_count": 83,
   "metadata": {},
   "outputs": [],
   "source": [
    "columns_changed = columns_changed.to_list()"
   ]
  },
  {
   "cell_type": "code",
   "execution_count": 84,
   "metadata": {},
   "outputs": [],
   "source": [
    "final_cols = final.columns.to_list()[:5] + columns_changed"
   ]
  },
  {
   "cell_type": "code",
   "execution_count": 85,
   "metadata": {},
   "outputs": [],
   "source": [
    "final.columns = final_cols"
   ]
  },
  {
   "cell_type": "code",
   "execution_count": 86,
   "metadata": {},
   "outputs": [
    {
     "data": {
      "text/html": [
       "<div>\n",
       "<style scoped>\n",
       "    .dataframe tbody tr th:only-of-type {\n",
       "        vertical-align: middle;\n",
       "    }\n",
       "\n",
       "    .dataframe tbody tr th {\n",
       "        vertical-align: top;\n",
       "    }\n",
       "\n",
       "    .dataframe thead th {\n",
       "        text-align: right;\n",
       "    }\n",
       "</style>\n",
       "<table border=\"1\" class=\"dataframe\">\n",
       "  <thead>\n",
       "    <tr style=\"text-align: right;\">\n",
       "      <th></th>\n",
       "      <th>MonthYear</th>\n",
       "      <th>country_name</th>\n",
       "      <th>country_code</th>\n",
       "      <th>GPI_score</th>\n",
       "      <th>gpi_predicted</th>\n",
       "      <th>Make statement</th>\n",
       "      <th>Decline comment</th>\n",
       "      <th>Make pessimistic comment</th>\n",
       "      <th>Make optimistic comment</th>\n",
       "      <th>Consider policy option</th>\n",
       "      <th>...</th>\n",
       "      <th>Use conventional military force</th>\n",
       "      <th>Impose blockade, restrict movement</th>\n",
       "      <th>Occupy territory</th>\n",
       "      <th>Fight with small arms and light weapons</th>\n",
       "      <th>Fight with artillery and tanks</th>\n",
       "      <th>Employ aerial weapons</th>\n",
       "      <th>Violate ceasefire</th>\n",
       "      <th>Engage in mass expulsion</th>\n",
       "      <th>Engage in mass killings</th>\n",
       "      <th>Engage in ethnic cleansing</th>\n",
       "    </tr>\n",
       "  </thead>\n",
       "  <tbody>\n",
       "    <tr>\n",
       "      <th>0</th>\n",
       "      <td>201403</td>\n",
       "      <td>Spain</td>\n",
       "      <td>SP</td>\n",
       "      <td>1.6300</td>\n",
       "      <td>1.6914</td>\n",
       "      <td>0.00922191</td>\n",
       "      <td>0.00205365</td>\n",
       "      <td>0.00258881</td>\n",
       "      <td>0.00304693</td>\n",
       "      <td>0.00597635</td>\n",
       "      <td>...</td>\n",
       "      <td>0.00701164</td>\n",
       "      <td>0</td>\n",
       "      <td>0.00647943</td>\n",
       "      <td>0.00402723</td>\n",
       "      <td>0.0125938</td>\n",
       "      <td>0.00544799</td>\n",
       "      <td>NaN</td>\n",
       "      <td>NaN</td>\n",
       "      <td>NaN</td>\n",
       "      <td>NaN</td>\n",
       "    </tr>\n",
       "    <tr>\n",
       "      <th>1</th>\n",
       "      <td>201404</td>\n",
       "      <td>Spain</td>\n",
       "      <td>SP</td>\n",
       "      <td>1.6238</td>\n",
       "      <td>1.6610</td>\n",
       "      <td>0.0108516</td>\n",
       "      <td>0.00369934</td>\n",
       "      <td>0.0070494</td>\n",
       "      <td>0.00308904</td>\n",
       "      <td>0.0059206</td>\n",
       "      <td>...</td>\n",
       "      <td>0.00953077</td>\n",
       "      <td>0</td>\n",
       "      <td>0.000763006</td>\n",
       "      <td>0.00342654</td>\n",
       "      <td>0.0168576</td>\n",
       "      <td>0.0129909</td>\n",
       "      <td>NaN</td>\n",
       "      <td>NaN</td>\n",
       "      <td>NaN</td>\n",
       "      <td>NaN</td>\n",
       "    </tr>\n",
       "    <tr>\n",
       "      <th>2</th>\n",
       "      <td>201405</td>\n",
       "      <td>Spain</td>\n",
       "      <td>SP</td>\n",
       "      <td>1.6177</td>\n",
       "      <td>1.6513</td>\n",
       "      <td>0.000275281</td>\n",
       "      <td>0.00107858</td>\n",
       "      <td>0.000210615</td>\n",
       "      <td>0.00271787</td>\n",
       "      <td>0.000638663</td>\n",
       "      <td>...</td>\n",
       "      <td>0.00360465</td>\n",
       "      <td>0.00718811</td>\n",
       "      <td>0.000198101</td>\n",
       "      <td>0.0238128</td>\n",
       "      <td>0.0206324</td>\n",
       "      <td>0.00175264</td>\n",
       "      <td>NaN</td>\n",
       "      <td>NaN</td>\n",
       "      <td>NaN</td>\n",
       "      <td>NaN</td>\n",
       "    </tr>\n",
       "    <tr>\n",
       "      <th>3</th>\n",
       "      <td>201406</td>\n",
       "      <td>Spain</td>\n",
       "      <td>SP</td>\n",
       "      <td>1.6115</td>\n",
       "      <td>1.6550</td>\n",
       "      <td>0.000116735</td>\n",
       "      <td>0.00171243</td>\n",
       "      <td>0.00287457</td>\n",
       "      <td>0.000931874</td>\n",
       "      <td>0.000841625</td>\n",
       "      <td>...</td>\n",
       "      <td>0.0178504</td>\n",
       "      <td>0</td>\n",
       "      <td>2.48733e-05</td>\n",
       "      <td>0.0505367</td>\n",
       "      <td>0.0144891</td>\n",
       "      <td>0.00452208</td>\n",
       "      <td>NaN</td>\n",
       "      <td>NaN</td>\n",
       "      <td>NaN</td>\n",
       "      <td>NaN</td>\n",
       "    </tr>\n",
       "    <tr>\n",
       "      <th>4</th>\n",
       "      <td>201407</td>\n",
       "      <td>Spain</td>\n",
       "      <td>SP</td>\n",
       "      <td>1.6053</td>\n",
       "      <td>1.6552</td>\n",
       "      <td>0.00012881</td>\n",
       "      <td>0.000292653</td>\n",
       "      <td>0.000302728</td>\n",
       "      <td>0.00367897</td>\n",
       "      <td>0.00123307</td>\n",
       "      <td>...</td>\n",
       "      <td>0.0179736</td>\n",
       "      <td>0.000353525</td>\n",
       "      <td>0.00911597</td>\n",
       "      <td>0.0426761</td>\n",
       "      <td>0.0127407</td>\n",
       "      <td>0.00720818</td>\n",
       "      <td>NaN</td>\n",
       "      <td>NaN</td>\n",
       "      <td>NaN</td>\n",
       "      <td>NaN</td>\n",
       "    </tr>\n",
       "    <tr>\n",
       "      <th>...</th>\n",
       "      <td>...</td>\n",
       "      <td>...</td>\n",
       "      <td>...</td>\n",
       "      <td>...</td>\n",
       "      <td>...</td>\n",
       "      <td>...</td>\n",
       "      <td>...</td>\n",
       "      <td>...</td>\n",
       "      <td>...</td>\n",
       "      <td>...</td>\n",
       "      <td>...</td>\n",
       "      <td>...</td>\n",
       "      <td>...</td>\n",
       "      <td>...</td>\n",
       "      <td>...</td>\n",
       "      <td>...</td>\n",
       "      <td>...</td>\n",
       "      <td>...</td>\n",
       "      <td>...</td>\n",
       "      <td>...</td>\n",
       "      <td>...</td>\n",
       "    </tr>\n",
       "    <tr>\n",
       "      <th>14646</th>\n",
       "      <td>202105</td>\n",
       "      <td>Indonesia</td>\n",
       "      <td>ID</td>\n",
       "      <td>NaN</td>\n",
       "      <td>1.7861</td>\n",
       "      <td>0</td>\n",
       "      <td>0.0147958</td>\n",
       "      <td>0.00190761</td>\n",
       "      <td>0.00437741</td>\n",
       "      <td>0.0419324</td>\n",
       "      <td>...</td>\n",
       "      <td>0.00610109</td>\n",
       "      <td>0.0196468</td>\n",
       "      <td>0.00466104</td>\n",
       "      <td>0</td>\n",
       "      <td>0</td>\n",
       "      <td>0.000225095</td>\n",
       "      <td>NaN</td>\n",
       "      <td>NaN</td>\n",
       "      <td>0</td>\n",
       "      <td>NaN</td>\n",
       "    </tr>\n",
       "    <tr>\n",
       "      <th>14647</th>\n",
       "      <td>202106</td>\n",
       "      <td>Indonesia</td>\n",
       "      <td>ID</td>\n",
       "      <td>NaN</td>\n",
       "      <td>1.7847</td>\n",
       "      <td>0</td>\n",
       "      <td>0.0147958</td>\n",
       "      <td>0.00190761</td>\n",
       "      <td>0.00437741</td>\n",
       "      <td>0.0419324</td>\n",
       "      <td>...</td>\n",
       "      <td>0.00610109</td>\n",
       "      <td>0.0196468</td>\n",
       "      <td>0.00466104</td>\n",
       "      <td>0</td>\n",
       "      <td>0</td>\n",
       "      <td>0.000225095</td>\n",
       "      <td>NaN</td>\n",
       "      <td>NaN</td>\n",
       "      <td>0</td>\n",
       "      <td>NaN</td>\n",
       "    </tr>\n",
       "    <tr>\n",
       "      <th>14648</th>\n",
       "      <td>202107</td>\n",
       "      <td>Indonesia</td>\n",
       "      <td>ID</td>\n",
       "      <td>NaN</td>\n",
       "      <td>1.7997</td>\n",
       "      <td>0</td>\n",
       "      <td>0.0147958</td>\n",
       "      <td>0.00190761</td>\n",
       "      <td>0.00437741</td>\n",
       "      <td>0.0419324</td>\n",
       "      <td>...</td>\n",
       "      <td>0.00610109</td>\n",
       "      <td>0.0196468</td>\n",
       "      <td>0.00466104</td>\n",
       "      <td>0</td>\n",
       "      <td>0</td>\n",
       "      <td>0.000225095</td>\n",
       "      <td>NaN</td>\n",
       "      <td>NaN</td>\n",
       "      <td>0</td>\n",
       "      <td>NaN</td>\n",
       "    </tr>\n",
       "    <tr>\n",
       "      <th>14649</th>\n",
       "      <td>202108</td>\n",
       "      <td>Indonesia</td>\n",
       "      <td>ID</td>\n",
       "      <td>NaN</td>\n",
       "      <td>1.8056</td>\n",
       "      <td>0</td>\n",
       "      <td>0.0147958</td>\n",
       "      <td>0.00190761</td>\n",
       "      <td>0.00437741</td>\n",
       "      <td>0.0419324</td>\n",
       "      <td>...</td>\n",
       "      <td>0.00610109</td>\n",
       "      <td>0.0196468</td>\n",
       "      <td>0.00466104</td>\n",
       "      <td>0</td>\n",
       "      <td>0</td>\n",
       "      <td>0.000225095</td>\n",
       "      <td>NaN</td>\n",
       "      <td>NaN</td>\n",
       "      <td>0</td>\n",
       "      <td>NaN</td>\n",
       "    </tr>\n",
       "    <tr>\n",
       "      <th>14650</th>\n",
       "      <td>202109</td>\n",
       "      <td>Indonesia</td>\n",
       "      <td>ID</td>\n",
       "      <td>NaN</td>\n",
       "      <td>1.7851</td>\n",
       "      <td>0</td>\n",
       "      <td>0.0147958</td>\n",
       "      <td>0.00190761</td>\n",
       "      <td>0.00437741</td>\n",
       "      <td>0.0419324</td>\n",
       "      <td>...</td>\n",
       "      <td>0.00610109</td>\n",
       "      <td>0.0196468</td>\n",
       "      <td>0.00466104</td>\n",
       "      <td>0</td>\n",
       "      <td>0</td>\n",
       "      <td>0.000225095</td>\n",
       "      <td>NaN</td>\n",
       "      <td>NaN</td>\n",
       "      <td>0</td>\n",
       "      <td>NaN</td>\n",
       "    </tr>\n",
       "  </tbody>\n",
       "</table>\n",
       "<p>14651 rows × 146 columns</p>\n",
       "</div>"
      ],
      "text/plain": [
       "      MonthYear country_name country_code  GPI_score  gpi_predicted  \\\n",
       "0        201403        Spain           SP     1.6300         1.6914   \n",
       "1        201404        Spain           SP     1.6238         1.6610   \n",
       "2        201405        Spain           SP     1.6177         1.6513   \n",
       "3        201406        Spain           SP     1.6115         1.6550   \n",
       "4        201407        Spain           SP     1.6053         1.6552   \n",
       "...         ...          ...          ...        ...            ...   \n",
       "14646    202105    Indonesia           ID        NaN         1.7861   \n",
       "14647    202106    Indonesia           ID        NaN         1.7847   \n",
       "14648    202107    Indonesia           ID        NaN         1.7997   \n",
       "14649    202108    Indonesia           ID        NaN         1.8056   \n",
       "14650    202109    Indonesia           ID        NaN         1.7851   \n",
       "\n",
       "      Make statement Decline comment Make pessimistic comment  \\\n",
       "0         0.00922191      0.00205365               0.00258881   \n",
       "1          0.0108516      0.00369934                0.0070494   \n",
       "2        0.000275281      0.00107858              0.000210615   \n",
       "3        0.000116735      0.00171243               0.00287457   \n",
       "4         0.00012881     0.000292653              0.000302728   \n",
       "...              ...             ...                      ...   \n",
       "14646              0       0.0147958               0.00190761   \n",
       "14647              0       0.0147958               0.00190761   \n",
       "14648              0       0.0147958               0.00190761   \n",
       "14649              0       0.0147958               0.00190761   \n",
       "14650              0       0.0147958               0.00190761   \n",
       "\n",
       "      Make optimistic comment Consider policy option  ...  \\\n",
       "0                  0.00304693             0.00597635  ...   \n",
       "1                  0.00308904              0.0059206  ...   \n",
       "2                  0.00271787            0.000638663  ...   \n",
       "3                 0.000931874            0.000841625  ...   \n",
       "4                  0.00367897             0.00123307  ...   \n",
       "...                       ...                    ...  ...   \n",
       "14646              0.00437741              0.0419324  ...   \n",
       "14647              0.00437741              0.0419324  ...   \n",
       "14648              0.00437741              0.0419324  ...   \n",
       "14649              0.00437741              0.0419324  ...   \n",
       "14650              0.00437741              0.0419324  ...   \n",
       "\n",
       "      Use conventional military force Impose blockade, restrict movement   \\\n",
       "0                          0.00701164                                   0   \n",
       "1                          0.00953077                                   0   \n",
       "2                          0.00360465                          0.00718811   \n",
       "3                           0.0178504                                   0   \n",
       "4                           0.0179736                         0.000353525   \n",
       "...                               ...                                 ...   \n",
       "14646                      0.00610109                           0.0196468   \n",
       "14647                      0.00610109                           0.0196468   \n",
       "14648                      0.00610109                           0.0196468   \n",
       "14649                      0.00610109                           0.0196468   \n",
       "14650                      0.00610109                           0.0196468   \n",
       "\n",
       "      Occupy territory Fight with small arms and light weapons  \\\n",
       "0           0.00647943                              0.00402723   \n",
       "1          0.000763006                              0.00342654   \n",
       "2          0.000198101                               0.0238128   \n",
       "3          2.48733e-05                               0.0505367   \n",
       "4           0.00911597                               0.0426761   \n",
       "...                ...                                     ...   \n",
       "14646       0.00466104                                       0   \n",
       "14647       0.00466104                                       0   \n",
       "14648       0.00466104                                       0   \n",
       "14649       0.00466104                                       0   \n",
       "14650       0.00466104                                       0   \n",
       "\n",
       "      Fight with artillery and tanks Employ aerial weapons Violate ceasefire   \\\n",
       "0                          0.0125938            0.00544799                NaN   \n",
       "1                          0.0168576             0.0129909                NaN   \n",
       "2                          0.0206324            0.00175264                NaN   \n",
       "3                          0.0144891            0.00452208                NaN   \n",
       "4                          0.0127407            0.00720818                NaN   \n",
       "...                              ...                   ...                ...   \n",
       "14646                              0           0.000225095                NaN   \n",
       "14647                              0           0.000225095                NaN   \n",
       "14648                              0           0.000225095                NaN   \n",
       "14649                              0           0.000225095                NaN   \n",
       "14650                              0           0.000225095                NaN   \n",
       "\n",
       "      Engage in mass expulsion Engage in mass killings  \\\n",
       "0                          NaN                     NaN   \n",
       "1                          NaN                     NaN   \n",
       "2                          NaN                     NaN   \n",
       "3                          NaN                     NaN   \n",
       "4                          NaN                     NaN   \n",
       "...                        ...                     ...   \n",
       "14646                      NaN                       0   \n",
       "14647                      NaN                       0   \n",
       "14648                      NaN                       0   \n",
       "14649                      NaN                       0   \n",
       "14650                      NaN                       0   \n",
       "\n",
       "      Engage in ethnic cleansing  \n",
       "0                            NaN  \n",
       "1                            NaN  \n",
       "2                            NaN  \n",
       "3                            NaN  \n",
       "4                            NaN  \n",
       "...                          ...  \n",
       "14646                        NaN  \n",
       "14647                        NaN  \n",
       "14648                        NaN  \n",
       "14649                        NaN  \n",
       "14650                        NaN  \n",
       "\n",
       "[14651 rows x 146 columns]"
      ]
     },
     "execution_count": 86,
     "metadata": {},
     "output_type": "execute_result"
    }
   ],
   "source": [
    "final"
   ]
  },
  {
   "cell_type": "code",
   "execution_count": 122,
   "metadata": {},
   "outputs": [],
   "source": [
    "final.to_csv('data/all_countries_for_dashboard.csv', index=False)"
   ]
  },
  {
   "cell_type": "code",
   "execution_count": 3,
   "metadata": {},
   "outputs": [],
   "source": [
    "a = pd.read_csv('data/all_countries_for_dashboard.csv', index_col=0)"
   ]
  },
  {
   "cell_type": "code",
   "execution_count": 7,
   "metadata": {},
   "outputs": [],
   "source": [
    "a = a.loc[a['country_name'] == 'Ukraine']\n"
   ]
  },
  {
   "cell_type": "code",
   "execution_count": 20,
   "metadata": {
    "scrolled": true
   },
   "outputs": [],
   "source": [
    "perc_error = ((a.gpi_predicted - a.GPI_score)/a.GPI_score)*100"
   ]
  },
  {
   "cell_type": "code",
   "execution_count": 22,
   "metadata": {},
   "outputs": [
    {
     "data": {
      "text/plain": [
       "(-11.828929517410687, 6.918099463856538)"
      ]
     },
     "execution_count": 22,
     "metadata": {},
     "output_type": "execute_result"
    }
   ],
   "source": [
    "perc_error.min(), perc_error.max()"
   ]
  },
  {
   "cell_type": "code",
   "execution_count": 24,
   "metadata": {},
   "outputs": [
    {
     "data": {
      "text/plain": [
       "-1.6301784998731965"
      ]
     },
     "execution_count": 24,
     "metadata": {},
     "output_type": "execute_result"
    }
   ],
   "source": [
    "np.mean(perc_error)"
   ]
  },
  {
   "cell_type": "code",
   "execution_count": null,
   "metadata": {},
   "outputs": [],
   "source": []
  }
 ],
 "metadata": {
  "kernelspec": {
   "display_name": "Python 3",
   "language": "python",
   "name": "python3"
  },
  "language_info": {
   "codemirror_mode": {
    "name": "ipython",
    "version": 3
   },
   "file_extension": ".py",
   "mimetype": "text/x-python",
   "name": "python",
   "nbconvert_exporter": "python",
   "pygments_lexer": "ipython3",
   "version": "3.7.3"
  }
 },
 "nbformat": 4,
 "nbformat_minor": 4
}
