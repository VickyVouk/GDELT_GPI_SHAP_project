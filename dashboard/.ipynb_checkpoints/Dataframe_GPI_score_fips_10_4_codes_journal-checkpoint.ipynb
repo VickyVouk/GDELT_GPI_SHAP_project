{
 "cells": [
  {
   "cell_type": "markdown",
   "metadata": {},
   "source": [
    "**I work on the base environment**"
   ]
  },
  {
   "cell_type": "code",
   "execution_count": 1,
   "metadata": {},
   "outputs": [],
   "source": [
    "import pandas as pd"
   ]
  },
  {
   "cell_type": "markdown",
   "metadata": {},
   "source": [
    "### Insert all GPI data from all countries as found online."
   ]
  },
  {
   "cell_type": "code",
   "execution_count": 2,
   "metadata": {},
   "outputs": [],
   "source": [
    "path = '../../../GPI_project/'"
   ]
  },
  {
   "cell_type": "code",
   "execution_count": 3,
   "metadata": {},
   "outputs": [],
   "source": [
    "gpi = pd.read_csv(path + 'new_2021/gpi_all_countries.csv')"
   ]
  },
  {
   "cell_type": "code",
   "execution_count": 4,
   "metadata": {},
   "outputs": [
    {
     "data": {
      "text/html": [
       "<div>\n",
       "<style scoped>\n",
       "    .dataframe tbody tr th:only-of-type {\n",
       "        vertical-align: middle;\n",
       "    }\n",
       "\n",
       "    .dataframe tbody tr th {\n",
       "        vertical-align: top;\n",
       "    }\n",
       "\n",
       "    .dataframe thead th {\n",
       "        text-align: right;\n",
       "    }\n",
       "</style>\n",
       "<table border=\"1\" class=\"dataframe\">\n",
       "  <thead>\n",
       "    <tr style=\"text-align: right;\">\n",
       "      <th></th>\n",
       "      <th>Country</th>\n",
       "      <th>2021</th>\n",
       "      <th>2020</th>\n",
       "      <th>2019</th>\n",
       "      <th>2018</th>\n",
       "      <th>2017</th>\n",
       "      <th>2016</th>\n",
       "      <th>2015</th>\n",
       "      <th>2014</th>\n",
       "      <th>2013</th>\n",
       "      <th>2012</th>\n",
       "      <th>2011</th>\n",
       "      <th>2010</th>\n",
       "      <th>2009</th>\n",
       "      <th>2008</th>\n",
       "    </tr>\n",
       "  </thead>\n",
       "  <tbody>\n",
       "    <tr>\n",
       "      <th>0</th>\n",
       "      <td>Afghanistan</td>\n",
       "      <td>3.631</td>\n",
       "      <td>3.644</td>\n",
       "      <td>3.300</td>\n",
       "      <td>3.350</td>\n",
       "      <td>3.347</td>\n",
       "      <td>3.391</td>\n",
       "      <td>3.293</td>\n",
       "      <td>3.321</td>\n",
       "      <td>3.353</td>\n",
       "      <td>3.442</td>\n",
       "      <td>3.392</td>\n",
       "      <td>3.485</td>\n",
       "      <td>3.426</td>\n",
       "      <td>3.350</td>\n",
       "    </tr>\n",
       "    <tr>\n",
       "      <th>1</th>\n",
       "      <td>Albania</td>\n",
       "      <td>1.824</td>\n",
       "      <td>1.872</td>\n",
       "      <td>1.821</td>\n",
       "      <td>1.843</td>\n",
       "      <td>1.920</td>\n",
       "      <td>1.900</td>\n",
       "      <td>1.948</td>\n",
       "      <td>1.960</td>\n",
       "      <td>1.995</td>\n",
       "      <td>1.976</td>\n",
       "      <td>1.938</td>\n",
       "      <td>1.912</td>\n",
       "      <td>1.916</td>\n",
       "      <td>1.943</td>\n",
       "    </tr>\n",
       "    <tr>\n",
       "      <th>2</th>\n",
       "      <td>Algeria</td>\n",
       "      <td>2.310</td>\n",
       "      <td>2.287</td>\n",
       "      <td>2.219</td>\n",
       "      <td>2.188</td>\n",
       "      <td>2.188</td>\n",
       "      <td>2.197</td>\n",
       "      <td>2.261</td>\n",
       "      <td>2.283</td>\n",
       "      <td>2.314</td>\n",
       "      <td>2.355</td>\n",
       "      <td>2.512</td>\n",
       "      <td>2.370</td>\n",
       "      <td>2.347</td>\n",
       "      <td>2.347</td>\n",
       "    </tr>\n",
       "  </tbody>\n",
       "</table>\n",
       "</div>"
      ],
      "text/plain": [
       "       Country   2021   2020   2019   2018   2017   2016   2015   2014   2013  \\\n",
       "0  Afghanistan  3.631  3.644  3.300  3.350  3.347  3.391  3.293  3.321  3.353   \n",
       "1      Albania  1.824  1.872  1.821  1.843  1.920  1.900  1.948  1.960  1.995   \n",
       "2      Algeria  2.310  2.287  2.219  2.188  2.188  2.197  2.261  2.283  2.314   \n",
       "\n",
       "    2012   2011   2010   2009   2008  \n",
       "0  3.442  3.392  3.485  3.426  3.350  \n",
       "1  1.976  1.938  1.912  1.916  1.943  \n",
       "2  2.355  2.512  2.370  2.347  2.347  "
      ]
     },
     "execution_count": 4,
     "metadata": {},
     "output_type": "execute_result"
    }
   ],
   "source": [
    "gpi.head(3)"
   ]
  },
  {
   "cell_type": "code",
   "execution_count": 5,
   "metadata": {},
   "outputs": [
    {
     "data": {
      "text/plain": [
       "163"
      ]
     },
     "execution_count": 5,
     "metadata": {},
     "output_type": "execute_result"
    }
   ],
   "source": [
    "len(gpi)"
   ]
  },
  {
   "cell_type": "markdown",
   "metadata": {},
   "source": [
    "### Now we need to turn the countries in the dataset to \"FIPS10-4\" system in order to match it with the system used from GDELT."
   ]
  },
  {
   "cell_type": "markdown",
   "metadata": {},
   "source": [
    "Insert the \"FIPS10-4\" database."
   ]
  },
  {
   "cell_type": "code",
   "execution_count": 6,
   "metadata": {},
   "outputs": [],
   "source": [
    "Fips = pd.read_csv(path + 'Fips10_4.csv')"
   ]
  },
  {
   "cell_type": "code",
   "execution_count": 7,
   "metadata": {
    "scrolled": false
   },
   "outputs": [
    {
     "data": {
      "text/html": [
       "<div>\n",
       "<style scoped>\n",
       "    .dataframe tbody tr th:only-of-type {\n",
       "        vertical-align: middle;\n",
       "    }\n",
       "\n",
       "    .dataframe tbody tr th {\n",
       "        vertical-align: top;\n",
       "    }\n",
       "\n",
       "    .dataframe thead th {\n",
       "        text-align: right;\n",
       "    }\n",
       "</style>\n",
       "<table border=\"1\" class=\"dataframe\">\n",
       "  <thead>\n",
       "    <tr style=\"text-align: right;\">\n",
       "      <th></th>\n",
       "      <th>Country</th>\n",
       "      <th>FIPS_10_4</th>\n",
       "    </tr>\n",
       "  </thead>\n",
       "  <tbody>\n",
       "    <tr>\n",
       "      <th>0</th>\n",
       "      <td>Afghanistan</td>\n",
       "      <td>AF</td>\n",
       "    </tr>\n",
       "    <tr>\n",
       "      <th>1</th>\n",
       "      <td>Aland Islands</td>\n",
       "      <td>–</td>\n",
       "    </tr>\n",
       "    <tr>\n",
       "      <th>2</th>\n",
       "      <td>Albania</td>\n",
       "      <td>AL</td>\n",
       "    </tr>\n",
       "  </tbody>\n",
       "</table>\n",
       "</div>"
      ],
      "text/plain": [
       "         Country FIPS_10_4\n",
       "0    Afghanistan        AF\n",
       "1  Aland Islands         –\n",
       "2        Albania        AL"
      ]
     },
     "execution_count": 7,
     "metadata": {},
     "output_type": "execute_result"
    }
   ],
   "source": [
    "Fips.head(3)"
   ]
  },
  {
   "cell_type": "markdown",
   "metadata": {},
   "source": [
    "There is usually a mess with the country names due to changes, etc. With the check and correct manually on the files until I have two documents with the same country names and then merge."
   ]
  },
  {
   "cell_type": "code",
   "execution_count": 8,
   "metadata": {},
   "outputs": [],
   "source": [
    "for el in sorted(list(gpi['Country'])): \n",
    "    if not(el in list(Fips['Country'])):\n",
    "        print (el)"
   ]
  },
  {
   "cell_type": "markdown",
   "metadata": {},
   "source": [
    "### Merge to create the dataframe with all countries and years GPI score with the corresponding fips_10_4 codes."
   ]
  },
  {
   "cell_type": "code",
   "execution_count": 9,
   "metadata": {
    "scrolled": true
   },
   "outputs": [
    {
     "data": {
      "text/html": [
       "<div>\n",
       "<style scoped>\n",
       "    .dataframe tbody tr th:only-of-type {\n",
       "        vertical-align: middle;\n",
       "    }\n",
       "\n",
       "    .dataframe tbody tr th {\n",
       "        vertical-align: top;\n",
       "    }\n",
       "\n",
       "    .dataframe thead th {\n",
       "        text-align: right;\n",
       "    }\n",
       "</style>\n",
       "<table border=\"1\" class=\"dataframe\">\n",
       "  <thead>\n",
       "    <tr style=\"text-align: right;\">\n",
       "      <th></th>\n",
       "      <th>Country</th>\n",
       "      <th>2021</th>\n",
       "      <th>2020</th>\n",
       "      <th>2019</th>\n",
       "      <th>2018</th>\n",
       "      <th>2017</th>\n",
       "      <th>2016</th>\n",
       "      <th>2015</th>\n",
       "      <th>2014</th>\n",
       "      <th>2013</th>\n",
       "      <th>2012</th>\n",
       "      <th>2011</th>\n",
       "      <th>2010</th>\n",
       "      <th>2009</th>\n",
       "      <th>2008</th>\n",
       "      <th>FIPS_10_4</th>\n",
       "    </tr>\n",
       "  </thead>\n",
       "  <tbody>\n",
       "    <tr>\n",
       "      <th>0</th>\n",
       "      <td>Afghanistan</td>\n",
       "      <td>3.631</td>\n",
       "      <td>3.644</td>\n",
       "      <td>3.3</td>\n",
       "      <td>3.35</td>\n",
       "      <td>3.347</td>\n",
       "      <td>3.391</td>\n",
       "      <td>3.293</td>\n",
       "      <td>3.321</td>\n",
       "      <td>3.353</td>\n",
       "      <td>3.442</td>\n",
       "      <td>3.392</td>\n",
       "      <td>3.485</td>\n",
       "      <td>3.426</td>\n",
       "      <td>3.35</td>\n",
       "      <td>AF</td>\n",
       "    </tr>\n",
       "  </tbody>\n",
       "</table>\n",
       "</div>"
      ],
      "text/plain": [
       "       Country   2021   2020  2019  2018   2017   2016   2015   2014   2013  \\\n",
       "0  Afghanistan  3.631  3.644   3.3  3.35  3.347  3.391  3.293  3.321  3.353   \n",
       "\n",
       "    2012   2011   2010   2009  2008 FIPS_10_4  \n",
       "0  3.442  3.392  3.485  3.426  3.35        AF  "
      ]
     },
     "execution_count": 9,
     "metadata": {},
     "output_type": "execute_result"
    }
   ],
   "source": [
    "gpifips = pd.merge(gpi, Fips, on='Country')\n",
    "gpifips.head(1)"
   ]
  },
  {
   "cell_type": "markdown",
   "metadata": {},
   "source": [
    "Get the columns in order to re-order them:"
   ]
  },
  {
   "cell_type": "code",
   "execution_count": 10,
   "metadata": {},
   "outputs": [],
   "source": [
    "columnl = gpifips.columns.to_list()\n",
    "columnl.reverse()"
   ]
  },
  {
   "cell_type": "markdown",
   "metadata": {},
   "source": [
    "Reorder the columns in the dataframe:"
   ]
  },
  {
   "cell_type": "code",
   "execution_count": 11,
   "metadata": {},
   "outputs": [],
   "source": [
    "col_list = [columnl[-1]] + [columnl[0]] + columnl[1:-1]\n",
    "\n",
    "Ngpifips = gpifips[col_list]"
   ]
  },
  {
   "cell_type": "code",
   "execution_count": 12,
   "metadata": {},
   "outputs": [
    {
     "data": {
      "text/html": [
       "<div>\n",
       "<style scoped>\n",
       "    .dataframe tbody tr th:only-of-type {\n",
       "        vertical-align: middle;\n",
       "    }\n",
       "\n",
       "    .dataframe tbody tr th {\n",
       "        vertical-align: top;\n",
       "    }\n",
       "\n",
       "    .dataframe thead th {\n",
       "        text-align: right;\n",
       "    }\n",
       "</style>\n",
       "<table border=\"1\" class=\"dataframe\">\n",
       "  <thead>\n",
       "    <tr style=\"text-align: right;\">\n",
       "      <th></th>\n",
       "      <th>Country</th>\n",
       "      <th>FIPS_10_4</th>\n",
       "      <th>2008</th>\n",
       "      <th>2009</th>\n",
       "      <th>2010</th>\n",
       "      <th>2011</th>\n",
       "      <th>2012</th>\n",
       "      <th>2013</th>\n",
       "      <th>2014</th>\n",
       "      <th>2015</th>\n",
       "      <th>2016</th>\n",
       "      <th>2017</th>\n",
       "      <th>2018</th>\n",
       "      <th>2019</th>\n",
       "      <th>2020</th>\n",
       "      <th>2021</th>\n",
       "    </tr>\n",
       "  </thead>\n",
       "  <tbody>\n",
       "    <tr>\n",
       "      <th>0</th>\n",
       "      <td>Afghanistan</td>\n",
       "      <td>AF</td>\n",
       "      <td>3.350</td>\n",
       "      <td>3.426</td>\n",
       "      <td>3.485</td>\n",
       "      <td>3.392</td>\n",
       "      <td>3.442</td>\n",
       "      <td>3.353</td>\n",
       "      <td>3.321</td>\n",
       "      <td>3.293</td>\n",
       "      <td>3.391</td>\n",
       "      <td>3.347</td>\n",
       "      <td>3.350</td>\n",
       "      <td>3.300</td>\n",
       "      <td>3.644</td>\n",
       "      <td>3.631</td>\n",
       "    </tr>\n",
       "    <tr>\n",
       "      <th>1</th>\n",
       "      <td>Albania</td>\n",
       "      <td>AL</td>\n",
       "      <td>1.943</td>\n",
       "      <td>1.916</td>\n",
       "      <td>1.912</td>\n",
       "      <td>1.938</td>\n",
       "      <td>1.976</td>\n",
       "      <td>1.995</td>\n",
       "      <td>1.960</td>\n",
       "      <td>1.948</td>\n",
       "      <td>1.900</td>\n",
       "      <td>1.920</td>\n",
       "      <td>1.843</td>\n",
       "      <td>1.821</td>\n",
       "      <td>1.872</td>\n",
       "      <td>1.824</td>\n",
       "    </tr>\n",
       "    <tr>\n",
       "      <th>2</th>\n",
       "      <td>Algeria</td>\n",
       "      <td>AG</td>\n",
       "      <td>2.347</td>\n",
       "      <td>2.347</td>\n",
       "      <td>2.370</td>\n",
       "      <td>2.512</td>\n",
       "      <td>2.355</td>\n",
       "      <td>2.314</td>\n",
       "      <td>2.283</td>\n",
       "      <td>2.261</td>\n",
       "      <td>2.197</td>\n",
       "      <td>2.188</td>\n",
       "      <td>2.188</td>\n",
       "      <td>2.219</td>\n",
       "      <td>2.287</td>\n",
       "      <td>2.310</td>\n",
       "    </tr>\n",
       "  </tbody>\n",
       "</table>\n",
       "</div>"
      ],
      "text/plain": [
       "       Country FIPS_10_4   2008   2009   2010   2011   2012   2013   2014  \\\n",
       "0  Afghanistan        AF  3.350  3.426  3.485  3.392  3.442  3.353  3.321   \n",
       "1      Albania        AL  1.943  1.916  1.912  1.938  1.976  1.995  1.960   \n",
       "2      Algeria        AG  2.347  2.347  2.370  2.512  2.355  2.314  2.283   \n",
       "\n",
       "    2015   2016   2017   2018   2019   2020   2021  \n",
       "0  3.293  3.391  3.347  3.350  3.300  3.644  3.631  \n",
       "1  1.948  1.900  1.920  1.843  1.821  1.872  1.824  \n",
       "2  2.261  2.197  2.188  2.188  2.219  2.287  2.310  "
      ]
     },
     "execution_count": 12,
     "metadata": {},
     "output_type": "execute_result"
    }
   ],
   "source": [
    "Ngpifips.head(3)"
   ]
  },
  {
   "cell_type": "code",
   "execution_count": 13,
   "metadata": {},
   "outputs": [
    {
     "data": {
      "text/plain": [
       "163"
      ]
     },
     "execution_count": 13,
     "metadata": {},
     "output_type": "execute_result"
    }
   ],
   "source": [
    "len(Ngpifips)"
   ]
  },
  {
   "cell_type": "markdown",
   "metadata": {},
   "source": [
    "Save the created dataframe:"
   ]
  },
  {
   "cell_type": "code",
   "execution_count": 14,
   "metadata": {},
   "outputs": [],
   "source": [
    "Ngpifips.to_csv(path + 'new_2021/Gpi_fips_10_4j.csv',index=False)"
   ]
  }
 ],
 "metadata": {
  "kernelspec": {
   "display_name": "Python 3",
   "language": "python",
   "name": "python3"
  },
  "language_info": {
   "codemirror_mode": {
    "name": "ipython",
    "version": 3
   },
   "file_extension": ".py",
   "mimetype": "text/x-python",
   "name": "python",
   "nbconvert_exporter": "python",
   "pygments_lexer": "ipython3",
   "version": "3.7.3"
  }
 },
 "nbformat": 4,
 "nbformat_minor": 2
}
