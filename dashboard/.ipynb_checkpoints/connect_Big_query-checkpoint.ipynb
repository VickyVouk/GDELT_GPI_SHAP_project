{
 "cells": [
  {
   "cell_type": "code",
   "execution_count": 1,
   "metadata": {},
   "outputs": [],
   "source": [
    "from google.cloud import bigquery\n",
    "from google.oauth2 import service_account\n",
    "import pandas_gbq\n",
    "import numpy as np"
   ]
  },
  {
   "cell_type": "markdown",
   "metadata": {},
   "source": [
    "Set the path:"
   ]
  },
  {
   "cell_type": "code",
   "execution_count": 2,
   "metadata": {},
   "outputs": [],
   "source": [
    "path = '/Users/vickyvoukelatou/Gdelt/GPI_project/credentials_bigquery.json'"
   ]
  },
  {
   "cell_type": "code",
   "execution_count": 3,
   "metadata": {},
   "outputs": [],
   "source": [
    "credentials = service_account.Credentials.from_service_account_file(path)"
   ]
  },
  {
   "cell_type": "code",
   "execution_count": 4,
   "metadata": {},
   "outputs": [],
   "source": [
    "project_id = 'sound-essence-220408'"
   ]
  },
  {
   "cell_type": "code",
   "execution_count": 5,
   "metadata": {},
   "outputs": [],
   "source": [
    "query_string = \"\"\"\n",
    "SELECT ActionGeo_CountryCode, MonthYear,EventBaseCode,\n",
    "count(EventBaseCode) as eventcount,\n",
    "sum(AvgTone) as tonecount,\n",
    "sum(GoldsteinScale) as goldstein\n",
    "FROM `gdelt-bq.full.events`\n",
    "WHERE (MonthYear>202009 and MonthYear<202110) and (ActionGeo_CountryCode <> 'null')\n",
    "group by ActionGeo_CountryCode, MonthYear, EventBaseCode\n",
    "Order by ActionGeo_CountryCode, EventBaseCode, MonthYear\"\"\""
   ]
  },
  {
   "cell_type": "code",
   "execution_count": 18,
   "metadata": {},
   "outputs": [],
   "source": [
    "query_string = \"\"\"\n",
    "SELECT ActionGeo_CountryCode, MonthYear, EventBaseCode,\n",
    "count(EventBaseCode) as eventcount\n",
    "FROM `gdelt-bq.full.events`\n",
    "WHERE (MonthYear>202009 and MonthYear<202010) and (ActionGeo_CountryCode <> 'null')\n",
    "group by ActionGeo_CountryCode, MonthYear, EventBaseCode\n",
    "Order by ActionGeo_CountryCode, EventBaseCode, MonthYear\"\"\""
   ]
  },
  {
   "cell_type": "code",
   "execution_count": 19,
   "metadata": {
    "scrolled": true
   },
   "outputs": [
    {
     "name": "stderr",
     "output_type": "stream",
     "text": [
      "Downloading: 0rows [00:00, ?rows/s]\n"
     ]
    }
   ],
   "source": [
    "df = pandas_gbq.read_gbq(query_string, project_id=project_id, credentials = credentials)"
   ]
  },
  {
   "cell_type": "code",
   "execution_count": 8,
   "metadata": {},
   "outputs": [
    {
     "data": {
      "text/html": [
       "<div>\n",
       "<style scoped>\n",
       "    .dataframe tbody tr th:only-of-type {\n",
       "        vertical-align: middle;\n",
       "    }\n",
       "\n",
       "    .dataframe tbody tr th {\n",
       "        vertical-align: top;\n",
       "    }\n",
       "\n",
       "    .dataframe thead th {\n",
       "        text-align: right;\n",
       "    }\n",
       "</style>\n",
       "<table border=\"1\" class=\"dataframe\">\n",
       "  <thead>\n",
       "    <tr style=\"text-align: right;\">\n",
       "      <th></th>\n",
       "      <th>ActionGeo_CountryCode</th>\n",
       "      <th>MonthYear</th>\n",
       "      <th>EventBaseCode</th>\n",
       "      <th>eventcount</th>\n",
       "    </tr>\n",
       "  </thead>\n",
       "  <tbody>\n",
       "    <tr>\n",
       "      <th>0</th>\n",
       "      <td>AA</td>\n",
       "      <td>202010</td>\n",
       "      <td>010</td>\n",
       "      <td>1</td>\n",
       "    </tr>\n",
       "    <tr>\n",
       "      <th>1</th>\n",
       "      <td>AA</td>\n",
       "      <td>202011</td>\n",
       "      <td>010</td>\n",
       "      <td>18</td>\n",
       "    </tr>\n",
       "    <tr>\n",
       "      <th>2</th>\n",
       "      <td>AA</td>\n",
       "      <td>202012</td>\n",
       "      <td>010</td>\n",
       "      <td>15</td>\n",
       "    </tr>\n",
       "    <tr>\n",
       "      <th>3</th>\n",
       "      <td>AA</td>\n",
       "      <td>202101</td>\n",
       "      <td>010</td>\n",
       "      <td>15</td>\n",
       "    </tr>\n",
       "    <tr>\n",
       "      <th>4</th>\n",
       "      <td>AA</td>\n",
       "      <td>202102</td>\n",
       "      <td>010</td>\n",
       "      <td>8</td>\n",
       "    </tr>\n",
       "    <tr>\n",
       "      <th>...</th>\n",
       "      <td>...</td>\n",
       "      <td>...</td>\n",
       "      <td>...</td>\n",
       "      <td>...</td>\n",
       "    </tr>\n",
       "    <tr>\n",
       "      <th>214455</th>\n",
       "      <td>ZI</td>\n",
       "      <td>202103</td>\n",
       "      <td>202</td>\n",
       "      <td>1</td>\n",
       "    </tr>\n",
       "    <tr>\n",
       "      <th>214456</th>\n",
       "      <td>ZI</td>\n",
       "      <td>202104</td>\n",
       "      <td>202</td>\n",
       "      <td>2</td>\n",
       "    </tr>\n",
       "    <tr>\n",
       "      <th>214457</th>\n",
       "      <td>ZI</td>\n",
       "      <td>202105</td>\n",
       "      <td>202</td>\n",
       "      <td>1</td>\n",
       "    </tr>\n",
       "    <tr>\n",
       "      <th>214458</th>\n",
       "      <td>ZI</td>\n",
       "      <td>202106</td>\n",
       "      <td>202</td>\n",
       "      <td>1</td>\n",
       "    </tr>\n",
       "    <tr>\n",
       "      <th>214459</th>\n",
       "      <td>ZI</td>\n",
       "      <td>202108</td>\n",
       "      <td>202</td>\n",
       "      <td>1</td>\n",
       "    </tr>\n",
       "  </tbody>\n",
       "</table>\n",
       "<p>214460 rows × 4 columns</p>\n",
       "</div>"
      ],
      "text/plain": [
       "       ActionGeo_CountryCode  MonthYear EventBaseCode  eventcount\n",
       "0                         AA     202010           010           1\n",
       "1                         AA     202011           010          18\n",
       "2                         AA     202012           010          15\n",
       "3                         AA     202101           010          15\n",
       "4                         AA     202102           010           8\n",
       "...                      ...        ...           ...         ...\n",
       "214455                    ZI     202103           202           1\n",
       "214456                    ZI     202104           202           2\n",
       "214457                    ZI     202105           202           1\n",
       "214458                    ZI     202106           202           1\n",
       "214459                    ZI     202108           202           1\n",
       "\n",
       "[214460 rows x 4 columns]"
      ]
     },
     "execution_count": 8,
     "metadata": {},
     "output_type": "execute_result"
    }
   ],
   "source": [
    "df"
   ]
  },
  {
   "cell_type": "markdown",
   "metadata": {},
   "source": [
    "Get the unique country codes:"
   ]
  },
  {
   "cell_type": "code",
   "execution_count": 9,
   "metadata": {
    "scrolled": true
   },
   "outputs": [
    {
     "data": {
      "text/plain": [
       "array(['AA', 'AC', 'AE', 'AF', 'AG', 'AJ', 'AL', 'AM', 'AN', 'AO', 'AQ',\n",
       "       'AR', 'AS', 'AU', 'AV', 'AY', 'BA', 'BB', 'BC', 'BD', 'BE', 'BF',\n",
       "       'BG', 'BH', 'BK', 'BL', 'BM', 'BN', 'BO', 'BP', 'BQ', 'BR', 'BT',\n",
       "       'BU', 'BV', 'BX', 'BY', 'CA', 'CB', 'CD', 'CE', 'CF', 'CG', 'CH',\n",
       "       'CI', 'CJ', 'CM', 'CN', 'CO', 'CQ', 'CS', 'CT', 'CU', 'CV', 'CW',\n",
       "       'CY', 'DA', 'DJ', 'DO', 'DR', 'EC', 'EG', 'EI', 'EK', 'EN', 'ER',\n",
       "       'ES', 'ET', 'EZ', 'FG', 'FI', 'FJ', 'FK', 'FM', 'FO', 'FP', 'FQ',\n",
       "       'FR', 'GA', 'GB', 'GG', 'GH', 'GI', 'GJ', 'GK', 'GL', 'GM', 'GP',\n",
       "       'GQ', 'GR', 'GT', 'GV', 'GY', 'GZ', 'HA', 'HK', 'HO', 'HQ', 'HR',\n",
       "       'HU', 'IC', 'ID', 'IM', 'IN', 'IO', 'IP', 'IR', 'IS', 'IT', 'IV',\n",
       "       'IZ', 'JA', 'JE', 'JM', 'JN', 'JO', 'JQ', 'KE', 'KG', 'KN', 'KR',\n",
       "       'KS', 'KT', 'KU', 'KV', 'KZ', 'LA', 'LE', 'LG', 'LH', 'LI', 'LO',\n",
       "       'LQ', 'LS', 'LT', 'LU', 'LY', 'MA', 'MB', 'MC', 'MD', 'MF', 'MG',\n",
       "       'MH', 'MI', 'MJ', 'MK', 'ML', 'MN', 'MO', 'MP', 'MQ', 'MR', 'MT',\n",
       "       'MU', 'MV', 'MX', 'MY', 'MZ', 'NC', 'NE', 'NF', 'NG', 'NH', 'NI',\n",
       "       'NL', 'NO', 'NP', 'NR', 'NS', 'NT', 'NU', 'NZ', 'OC', 'OD', 'OS',\n",
       "       'PA', 'PC', 'PE', 'PF', 'PG', 'PK', 'PL', 'PM', 'PO', 'PP', 'PS',\n",
       "       'PU', 'QA', 'RB', 'RE', 'RI', 'RM', 'RN', 'RO', 'RP', 'RQ', 'RS',\n",
       "       'RW', 'SA', 'SB', 'SC', 'SE', 'SF', 'SG', 'SH', 'SI', 'SL', 'SM',\n",
       "       'SN', 'SO', 'SP', 'ST', 'SU', 'SV', 'SW', 'SY', 'SZ', 'TD', 'TH',\n",
       "       'TI', 'TK', 'TL', 'TN', 'TO', 'TP', 'TS', 'TT', 'TU', 'TV', 'TW',\n",
       "       'TX', 'TZ', 'UG', 'UK', 'UP', 'US', 'UV', 'UY', 'UZ', 'VC', 'VE',\n",
       "       'VI', 'VM', 'VQ', 'VT', 'WA', 'WE', 'WF', 'WI', 'WQ', 'WS', 'WZ',\n",
       "       'YI', 'YM', 'ZA', 'ZI'], dtype=object)"
      ]
     },
     "execution_count": 9,
     "metadata": {},
     "output_type": "execute_result"
    }
   ],
   "source": [
    "countries = df['ActionGeo_CountryCode'].unique()\n",
    "countries"
   ]
  },
  {
   "cell_type": "markdown",
   "metadata": {},
   "source": [
    "Get the length of the unique country codes:"
   ]
  },
  {
   "cell_type": "code",
   "execution_count": 10,
   "metadata": {},
   "outputs": [
    {
     "data": {
      "text/plain": [
       "257"
      ]
     },
     "execution_count": 10,
     "metadata": {},
     "output_type": "execute_result"
    }
   ],
   "source": [
    "len(countries)"
   ]
  },
  {
   "cell_type": "markdown",
   "metadata": {},
   "source": [
    "Get the country codes in a separate dataframe:"
   ]
  },
  {
   "cell_type": "code",
   "execution_count": 11,
   "metadata": {},
   "outputs": [],
   "source": [
    "for c in countries:\n",
    "    single_country = df.loc[df.ActionGeo_CountryCode == c]\n",
    "    export_csv = single_country.to_csv ('../../../GPI_project/new_2021/gdelt_data_202010_202109/%s.csv' %c, index = None, header=True)\n",
    "    \n",
    "    \n",
    "    "
   ]
  },
  {
   "cell_type": "markdown",
   "metadata": {},
   "source": [
    "Get the country codes in a separate dataframe:"
   ]
  },
  {
   "cell_type": "code",
   "execution_count": 25,
   "metadata": {},
   "outputs": [],
   "source": [
    "#np.savetxt('../../../GPI_project/journal/country_codes.csv', countries, delimiter=\",\", fmt='%s')"
   ]
  }
 ],
 "metadata": {
  "kernelspec": {
   "display_name": "Python 3",
   "language": "python",
   "name": "python3"
  },
  "language_info": {
   "codemirror_mode": {
    "name": "ipython",
    "version": 3
   },
   "file_extension": ".py",
   "mimetype": "text/x-python",
   "name": "python",
   "nbconvert_exporter": "python",
   "pygments_lexer": "ipython3",
   "version": "3.7.3"
  }
 },
 "nbformat": 4,
 "nbformat_minor": 2
}
