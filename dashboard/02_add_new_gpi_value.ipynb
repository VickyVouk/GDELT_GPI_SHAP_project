{
 "cells": [
  {
   "cell_type": "code",
   "execution_count": null,
   "metadata": {},
   "outputs": [],
   "source": [
    "import pandas as pd"
   ]
  },
  {
   "cell_type": "code",
   "execution_count": null,
   "metadata": {},
   "outputs": [],
   "source": [
    "#set the new year, e.g. 2021\n",
    "new_year = 2021"
   ]
  },
  {
   "cell_type": "markdown",
   "metadata": {},
   "source": [
    "Remeber later, that based on the differences of the countries found above replace the countries to be the same with the old dataframe with all the GPI values for all years. Below, we replace the differences found for the new year."
   ]
  },
  {
   "cell_type": "code",
   "execution_count": null,
   "metadata": {},
   "outputs": [],
   "source": [
    "all_gpi = pd.read_csv('data/gpi_all_countries.csv') #read all GPI data"
   ]
  },
  {
   "cell_type": "markdown",
   "metadata": {},
   "source": [
    "Download the .XLSX file for the Global Peace Index 2021 in the following adress:https://www.visionofhumanity.org/public-release-data/"
   ]
  },
  {
   "cell_type": "code",
   "execution_count": null,
   "metadata": {},
   "outputs": [],
   "source": [
    "#Keep only the new GPI values for each country so that to merge with the older data\n",
    "gpioneyear = pd.read_excel('data/GPI_new.xlsx', sheet_name='Overall Scores', engine='openpyxl')"
   ]
  },
  {
   "cell_type": "code",
   "execution_count": null,
   "metadata": {},
   "outputs": [],
   "source": [
    "gpioneyear.columns = gpioneyear.iloc[2]\n",
    "gpioneyear = gpioneyear[3:]"
   ]
  },
  {
   "cell_type": "code",
   "execution_count": null,
   "metadata": {},
   "outputs": [],
   "source": [
    "gpioneyear = gpioneyear[['Country', new_year]]"
   ]
  },
  {
   "cell_type": "code",
   "execution_count": null,
   "metadata": {},
   "outputs": [],
   "source": [
    "gpioneyear.columns = ['Country',str(int(a))]"
   ]
  },
  {
   "cell_type": "markdown",
   "metadata": {},
   "source": [
    "Check the length of the files"
   ]
  },
  {
   "cell_type": "code",
   "execution_count": null,
   "metadata": {},
   "outputs": [],
   "source": [
    "len(all_gpi), len(gpioneyear)"
   ]
  },
  {
   "cell_type": "markdown",
   "metadata": {},
   "source": [
    "Sort dataframes by country name"
   ]
  },
  {
   "cell_type": "code",
   "execution_count": null,
   "metadata": {},
   "outputs": [],
   "source": [
    "all_gpi = all_gpi.sort_values(by=['Country']).reset_index(drop = True)"
   ]
  },
  {
   "cell_type": "code",
   "execution_count": null,
   "metadata": {},
   "outputs": [],
   "source": [
    "gpioneyear = gpioneyear.sort_values(by=['Country']).reset_index(drop = True)"
   ]
  },
  {
   "cell_type": "markdown",
   "metadata": {},
   "source": [
    "Find the differences for the country names between the older and newer GPI dataframe."
   ]
  },
  {
   "cell_type": "code",
   "execution_count": null,
   "metadata": {},
   "outputs": [],
   "source": [
    "for el in list(all_gpi.Country): \n",
    "    if not(el in list(gpioneyear.Country)):\n",
    "        print (el)"
   ]
  },
  {
   "cell_type": "code",
   "execution_count": null,
   "metadata": {},
   "outputs": [],
   "source": [
    "for el in list(gpioneyear.Country): \n",
    "    if not(el in list(all_gpi.Country)):\n",
    "        print (el)"
   ]
  },
  {
   "cell_type": "code",
   "execution_count": null,
   "metadata": {},
   "outputs": [],
   "source": [
    "#Based on the differences of the countries found above replace the countries to be the same with the \n",
    "#old dataframe with all the GPI values for all years. Below, we replace the differences found for year 2021\n",
    "gpioneyear = gpioneyear.replace({'Country':{'Burkina Faso' : 'BurkinaFaso', 'Cote d\\' Ivoire' : 'Cote d’Ivoire',\n",
    "                              'Czech Republic' : 'Czechia', 'Timor-Leste':'East Timor','The Gambia':'Gambia', \n",
    "                              'United States of America': 'United States'}})                                                                                         \n",
    "\n",
    "\n"
   ]
  },
  {
   "cell_type": "markdown",
   "metadata": {},
   "source": [
    "Now that the country columns have no differences merge the data based on the Country columns"
   ]
  },
  {
   "cell_type": "code",
   "execution_count": null,
   "metadata": {},
   "outputs": [],
   "source": [
    "gpi_allyears = pd.merge(gpioneyear, all_gpi, on='Country')"
   ]
  },
  {
   "cell_type": "code",
   "execution_count": null,
   "metadata": {},
   "outputs": [],
   "source": [
    "gpi_allyears.to_csv('data/gpi_all_countries_new.csv', index=False)"
   ]
  }
 ],
 "metadata": {
  "kernelspec": {
   "display_name": "Python 3",
   "language": "python",
   "name": "python3"
  },
  "language_info": {
   "codemirror_mode": {
    "name": "ipython",
    "version": 3
   },
   "file_extension": ".py",
   "mimetype": "text/x-python",
   "name": "python",
   "nbconvert_exporter": "python",
   "pygments_lexer": "ipython3",
   "version": "3.7.3"
  }
 },
 "nbformat": 4,
 "nbformat_minor": 4
}
