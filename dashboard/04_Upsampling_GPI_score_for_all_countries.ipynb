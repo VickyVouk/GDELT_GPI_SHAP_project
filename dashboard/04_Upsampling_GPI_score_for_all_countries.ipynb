{
 "cells": [
  {
   "cell_type": "code",
   "execution_count": null,
   "metadata": {},
   "outputs": [],
   "source": [
    "import pandas as pd\n",
    "import numpy as np"
   ]
  },
  {
   "cell_type": "markdown",
   "metadata": {},
   "source": [
    "Insert all GPI data with the corresponding fips_10_4 codes as created in jupyter file named \"Dataframe_GPI_score_fips_10_4_codes_journal.\""
   ]
  },
  {
   "cell_type": "code",
   "execution_count": null,
   "metadata": {},
   "outputs": [],
   "source": [
    "gpifips = pd.read_csv('data/Gpi_fips_10_4.csv')"
   ]
  },
  {
   "cell_type": "code",
   "execution_count": null,
   "metadata": {},
   "outputs": [],
   "source": [
    "gpifips.head(3)"
   ]
  },
  {
   "cell_type": "markdown",
   "metadata": {},
   "source": [
    "Delete the columns with the full country names"
   ]
  },
  {
   "cell_type": "code",
   "execution_count": null,
   "metadata": {},
   "outputs": [],
   "source": [
    "del gpifips['Country']"
   ]
  },
  {
   "cell_type": "markdown",
   "metadata": {},
   "source": [
    "Transpose the dataframe so that I have one row per each country and year.<br>  "
   ]
  },
  {
   "cell_type": "code",
   "execution_count": null,
   "metadata": {},
   "outputs": [],
   "source": [
    "Ngpifips = gpifips.set_index('FIPS_10_4', append=True).stack().reset_index().drop('level_0',axis=1)"
   ]
  },
  {
   "cell_type": "markdown",
   "metadata": {},
   "source": [
    "Rename columns"
   ]
  },
  {
   "cell_type": "code",
   "execution_count": null,
   "metadata": {},
   "outputs": [],
   "source": [
    "Ngpifips.columns=['country','year','gpi_score']"
   ]
  },
  {
   "cell_type": "code",
   "execution_count": null,
   "metadata": {
    "scrolled": true
   },
   "outputs": [],
   "source": [
    "Ngpifips.head(1)"
   ]
  },
  {
   "cell_type": "code",
   "execution_count": null,
   "metadata": {
    "scrolled": true
   },
   "outputs": [],
   "source": [
    "countries=Ngpifips['country'].unique()\n",
    "countries"
   ]
  },
  {
   "cell_type": "markdown",
   "metadata": {},
   "source": [
    "Control whether year data are datetime data that we need for the interpolation"
   ]
  },
  {
   "cell_type": "code",
   "execution_count": null,
   "metadata": {},
   "outputs": [],
   "source": [
    "Ngpifips.year.dtype"
   ]
  },
  {
   "cell_type": "markdown",
   "metadata": {},
   "source": [
    "They are object data, so let's convert them to datetime."
   ]
  },
  {
   "cell_type": "code",
   "execution_count": null,
   "metadata": {},
   "outputs": [],
   "source": [
    "Ngpifips['year'] = pd.to_datetime(Ngpifips['year'])"
   ]
  },
  {
   "cell_type": "code",
   "execution_count": null,
   "metadata": {
    "scrolled": true
   },
   "outputs": [],
   "source": [
    "Ngpifips.year.dtype"
   ]
  },
  {
   "cell_type": "markdown",
   "metadata": {},
   "source": [
    "Verify whether my machine is accepting '<M8[ns]' as datetime"
   ]
  },
  {
   "cell_type": "code",
   "execution_count": null,
   "metadata": {},
   "outputs": [],
   "source": [
    "np.dtype('datetime64[ns]') == np.dtype('<M8[ns]')"
   ]
  },
  {
   "cell_type": "markdown",
   "metadata": {},
   "source": [
    "### Interpolation for each country"
   ]
  },
  {
   "cell_type": "markdown",
   "metadata": {},
   "source": [
    "**Upsample (= When you increase the frequency of the samples, such as from minutes to seconds. VS downsample**) the countries' database in order to create nans and then interpolate it.<br>"
   ]
  },
  {
   "cell_type": "code",
   "execution_count": null,
   "metadata": {},
   "outputs": [],
   "source": [
    "for c in countries:\n",
    "    single_country = Ngpifips.loc[Ngpifips.country == c] #loc is looking for location (if I try to print single country and break it gives me the first country dataset that creates)\n",
    "    single_country = single_country.drop('country',axis=1)\n",
    "    single_country.set_index('year', inplace = True) #I set the year as the index since this way the data should be inserted for interpolation#(inplace=True)->it modifies the initial dataframe without needing to rename it\n",
    "    upsampled = single_country.resample('MS') #Upsample per month in order to create nan gpi values for the rest of the 11 months that are needed for the interpolation\n",
    "    gpi_interp = upsampled.interpolate(method='linear')#Interpolate linearly\n",
    "    firstdate = gpi_interp.index[0]#get the first date to help create a new index with extra dates\n",
    "    extradates = pd.date_range(firstdate, periods = len(gpi_interp)+2 , freq='MS') #create the index column with the dates and add the two extra dates to reach the last month which is March\n",
    "    gpi_interp = gpi_interp.reindex(extradates) #change the index column with the new index column\n",
    "    shifted = gpi_interp.shift(2).dropna() #I give the GPI yearly value to the month of March\n",
    "    newind = shifted.index.strftime('%Y%m') #Turn the index from YYMMDD to YYMM, so that I can easily merge later.\n",
    "    shifted.index = newind #Pass the new index format to the dataframe.\n",
    "    shifted.reset_index(inplace=True)#Reset the index so that avoid having MonthYear column as an index.\n",
    "    shifted.columns = ['MonthYear','GPI_score']\n",
    "    shifted.to_csv('data/interpolated_gpi/interpolated_gpi_%s.csv' %c,index=False)  "
   ]
  }
 ],
 "metadata": {
  "kernelspec": {
   "display_name": "Python 3",
   "language": "python",
   "name": "python3"
  },
  "language_info": {
   "codemirror_mode": {
    "name": "ipython",
    "version": 3
   },
   "file_extension": ".py",
   "mimetype": "text/x-python",
   "name": "python",
   "nbconvert_exporter": "python",
   "pygments_lexer": "ipython3",
   "version": "3.7.3"
  }
 },
 "nbformat": 4,
 "nbformat_minor": 2
}
