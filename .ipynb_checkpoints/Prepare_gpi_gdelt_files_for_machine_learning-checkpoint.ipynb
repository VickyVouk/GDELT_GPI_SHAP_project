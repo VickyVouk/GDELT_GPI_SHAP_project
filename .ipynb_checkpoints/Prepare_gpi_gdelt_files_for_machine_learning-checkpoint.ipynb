{
 "cells": [
  {
   "cell_type": "code",
   "execution_count": 1,
   "metadata": {},
   "outputs": [],
   "source": [
    "import csv\n",
    "import pandas as pd\n",
    "import numpy as np\n",
    "import os"
   ]
  },
  {
   "cell_type": "markdown",
   "metadata": {},
   "source": [
    "Set the path"
   ]
  },
  {
   "cell_type": "code",
   "execution_count": 9,
   "metadata": {},
   "outputs": [],
   "source": [
    "path = '../../../Gdelt/GPI_project/journal/'"
   ]
  },
  {
   "cell_type": "code",
   "execution_count": 12,
   "metadata": {},
   "outputs": [],
   "source": [
    "# Find the countries that have both GPI and Gdelt values \n",
    "\n",
    "countries_gpi = []\n",
    "for i in os.listdir(path + 'interpolated_gpi_j/'):\n",
    "    if i != '.DS_Store':\n",
    "        countries_gpi.append((i.split('_')[2].split('.')[0]))\n",
    "        \n",
    "countries_gdelt = []\n",
    "for j in os.listdir(path + 'gdelt_data_j_200803_202009/'):\n",
    "    if j != '.DS_Store':\n",
    "        countries_gdelt.append(j.split('.')[0])\n",
    "        \n",
    "all_countries = [country for country in countries_gdelt if country in countries_gpi] "
   ]
  },
  {
   "cell_type": "code",
   "execution_count": 13,
   "metadata": {},
   "outputs": [
    {
     "data": {
      "text/plain": [
       "163"
      ]
     },
     "execution_count": 13,
     "metadata": {},
     "output_type": "execute_result"
    }
   ],
   "source": [
    "len(all_countries)"
   ]
  },
  {
   "cell_type": "markdown",
   "metadata": {},
   "source": [
    "### For every country create a dataframe with all the variables and the GPI values that we will use for machine learning"
   ]
  },
  {
   "cell_type": "code",
   "execution_count": null,
   "metadata": {},
   "outputs": [
    {
     "name": "stdout",
     "output_type": "stream",
     "text": [
      "NU\n",
      "MY\n",
      "AM\n",
      "CE\n",
      "BA\n",
      "VE\n",
      "TZ\n",
      "WA\n",
      "CD\n",
      "AL\n",
      "CS\n",
      "MX\n",
      "MO\n",
      "LI\n",
      "MZ\n",
      "BU\n",
      "CF\n",
      "UK\n",
      "TO\n",
      "TX\n",
      "CG\n",
      "BC\n",
      "AO\n",
      "BT\n",
      "OD\n",
      "LH\n",
      "ML\n",
      "BG\n",
      "CT\n",
      "UY\n",
      "ZA\n",
      "YM\n",
      "CU\n"
     ]
    }
   ],
   "source": [
    "all_variables_df = {}\n",
    "all_variables_df_new = {}\n",
    "\n",
    "for country in all_countries:\n",
    "    print(country)\n",
    "    # Read the GPI interpolated data\n",
    "    gpi_data = pd.read_csv(path+'interpolated_gpi_j/interpolated_gpi_%s.csv' %country)\n",
    "    gpi_data.astype({'MonthYear': 'str'}).dtypes #convert MonthYear to strings\n",
    "    all_variables_df[country] = pd.DataFrame({ 'MonthYear': gpi_data.MonthYear, 'GPI': gpi_data.GPI_score})\n",
    "    all_variables_df[country] = all_variables_df[country].set_index('MonthYear')\n",
    "    first_gpiindex = all_variables_df[country].index[0]#Get the first date of the gpi that serves to leave out variables that will used only for prediction, since after a date we do not know the gpi\n",
    "    last_gpiindex = all_variables_df[country].index[-1]#Get the last date of the gpi that serves to leave out variables that will used only for prediction, since after a date we do not know the gpi\n",
    "    \n",
    "    #Read the gdelt data as extracted from the Big Query\n",
    "    country_data = pd.read_csv(path + 'gdelt_data_only_events_j_200803_202009/%s.csv' %country)\n",
    "    # Remove event codes that are not numeric\n",
    "    country_data.EventBaseCode = pd.to_numeric(country_data.EventBaseCode, errors='coerce')\n",
    "    country_data = country_data.dropna()\n",
    "    country_data = country_data.reset_index(drop=True)\n",
    "    country_data.EventBaseCode =  country_data.EventBaseCode.astype(int) \n",
    "    variables = country_data['EventBaseCode'].unique()\n",
    "    #Create the dataframe to add only gdelt variables for prediction (only for the future prediction files)\n",
    "    all_variables_df_new[country] = pd.DataFrame()\n",
    "\n",
    "    for v in variables: #create small dataframes for each variable code and append in a bigger dataframe with all variables per country\n",
    "        \n",
    "        single_variable = country_data.loc[country_data.EventBaseCode == v]\n",
    "        single_variable = single_variable.reset_index(drop = True)\n",
    "        df_to_print = pd.DataFrame({'MonthYear': single_variable.MonthYear, 'event_count_' + str(v): single_variable.eventcount})\n",
    "        df_to_print = df_to_print.set_index('MonthYear')\n",
    "        #df_new = df_to_print.loc[last_gpiindex + 1:]#only gdelt variables with no corresponding gpi \n",
    "        #df_to_print = df_to_print.loc[first_gpiindex : last_gpiindex] #select the dataframe based on the index of gpi known values \n",
    "        all_variables_df[country] = pd.concat([all_variables_df[country], df_to_print], axis=1) \n",
    "        all_variables_df_new[country] = pd.concat([all_variables_df_new[country], df_new], axis=1) \n",
    "\n",
    "    #For machine learning\n",
    "    all_variables_df[country] = all_variables_df[country].fillna(0)\n",
    "    \n",
    "    #all_variables_df[country].to_csv(path + 'all_variables_only_events_j/all_variables_%s.csv' %(country)) \n",
    "    all_variables_df[country].to_csv(path + 'all_variables_only_events_j_200803_202009/all_variables_%s.csv' %(country)) \n",
    "\n",
    "    #if country=='UK' or country=='US':\n",
    "        #New data only for future prediction\n",
    "        #all_variables_df_new[country] = all_variables_df_new[country].fillna(0)\n",
    "        #all_variables_df_new[country].to_csv(path + 'all_variables_only_events_j_200803_202009/new_variables_%s.csv' %(country))\n",
    "        \n",
    "        \n",
    "        "
   ]
  }
 ],
 "metadata": {
  "kernelspec": {
   "display_name": "Python 3",
   "language": "python",
   "name": "python3"
  },
  "language_info": {
   "codemirror_mode": {
    "name": "ipython",
    "version": 3
   },
   "file_extension": ".py",
   "mimetype": "text/x-python",
   "name": "python",
   "nbconvert_exporter": "python",
   "pygments_lexer": "ipython3",
   "version": "3.7.3"
  }
 },
 "nbformat": 4,
 "nbformat_minor": 2
}
